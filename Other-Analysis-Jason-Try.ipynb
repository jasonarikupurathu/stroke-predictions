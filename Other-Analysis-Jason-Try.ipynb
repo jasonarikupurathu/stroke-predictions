{
 "cells": [
  {
   "cell_type": "markdown",
   "metadata": {},
   "source": [
    "## Check the bottom"
   ]
  },
  {
   "cell_type": "code",
   "execution_count": 1,
   "metadata": {},
   "outputs": [],
   "source": [
    "#Import DataFrame from Data-Cleaning-Notebook\n",
    "import pickle\n",
    "import pandas as pd\n",
    "import numpy as np\n",
    "infile = open('pickled_files/df.pickle','rb')\n",
    "df = pickle.load(infile)\n",
    "infile.close()\n"
   ]
  },
  {
   "cell_type": "code",
   "execution_count": 2,
   "metadata": {},
   "outputs": [],
   "source": [
    "from sklearn.metrics import classification_report, plot_confusion_matrix, recall_score\n",
    "\n",
    "def evaluation_report(model, X, y):\n",
    "    y_pred = model.predict(X)\n",
    "    print(classification_report(y, y_pred))\n",
    "    plot_confusion_matrix(model, X, y, cmap='GnBu')\n",
    "\n",
    "\n",
    "df.head()\n",
    "\n",
    "from sklearn.model_selection import train_test_split\n",
    "X = df.drop(['stroke', 'age'], axis = 1)\n",
    "y = df.stroke\n",
    "X_train, X_test, y_train, y_test = train_test_split(X, y, test_size=0.25, random_state=42)"
   ]
  },
  {
   "cell_type": "code",
   "execution_count": 3,
   "metadata": {},
   "outputs": [],
   "source": [
    "from imblearn.over_sampling import SMOTE\n",
    "from imblearn.pipeline import Pipeline as imbpipeline\n",
    "from sklearn.preprocessing import OneHotEncoder, StandardScaler\n",
    "from sklearn.metrics import confusion_matrix\n",
    "from sklearn.compose import ColumnTransformer\n",
    "from sklearn.linear_model import LogisticRegression"
   ]
  },
  {
   "cell_type": "code",
   "execution_count": 4,
   "metadata": {},
   "outputs": [],
   "source": [
    "X_train_nums = X_train.select_dtypes(['float64'])\n",
    "X_train_cat = X_train.select_dtypes(exclude = ['float64'])"
   ]
  },
  {
   "cell_type": "code",
   "execution_count": 5,
   "metadata": {},
   "outputs": [],
   "source": [
    "numerical_pipeline = imbpipeline(steps=[\n",
    "                                ('ss', StandardScaler())\n",
    "                            ])\n",
    "\n",
    "categorical_pipeline = imbpipeline(steps=[\n",
    "                            ('ohe', OneHotEncoder(drop='first',\n",
    "                                                 sparse=False))\n",
    "                            ])\n",
    "\n",
    "trans = ColumnTransformer(transformers=[\n",
    "    ('numerical', numerical_pipeline, X_train_nums.columns),\n",
    "    ('categorical', categorical_pipeline, X_train_cat.columns)\n",
    "])"
   ]
  },
  {
   "cell_type": "code",
   "execution_count": 6,
   "metadata": {},
   "outputs": [],
   "source": [
    "from sklearn.ensemble import RandomForestClassifier\n",
    "from sklearn.model_selection import GridSearchCV"
   ]
  },
  {
   "cell_type": "code",
   "execution_count": 9,
   "metadata": {},
   "outputs": [
    {
     "name": "stdout",
     "output_type": "stream",
     "text": [
      "Fitting 5 folds for each of 306 candidates, totalling 1530 fits\n"
     ]
    },
    {
     "name": "stderr",
     "output_type": "stream",
     "text": [
      "[Parallel(n_jobs=-1)]: Using backend LokyBackend with 4 concurrent workers.\n",
      "[Parallel(n_jobs=-1)]: Done  42 tasks      | elapsed:   30.2s\n",
      "[Parallel(n_jobs=-1)]: Done 192 tasks      | elapsed:  2.6min\n",
      "[Parallel(n_jobs=-1)]: Done 442 tasks      | elapsed:  6.3min\n",
      "[Parallel(n_jobs=-1)]: Done 792 tasks      | elapsed: 13.0min\n",
      "[Parallel(n_jobs=-1)]: Done 1242 tasks      | elapsed: 17.8min\n",
      "[Parallel(n_jobs=-1)]: Done 1530 out of 1530 | elapsed: 21.9min finished\n"
     ]
    }
   ],
   "source": [
    "# # Create first pipeline for base without reducing features.\n",
    "\n",
    "# rcf_pipe = imbpipeline(steps=[\n",
    "#     ('trans', trans),\n",
    "#     ('sm', SMOTE()),\n",
    "#     ('rcf', RandomForestClassifier())\n",
    "# ])\n",
    "\n",
    "\n",
    "# # Create param grid.\n",
    "\n",
    "# param_grid = [\n",
    "#     {'rcf' : [RandomForestClassifier()],\n",
    "#     'rcf__n_estimators' : list(range(100,600,200)),\n",
    "#     'rcf__max_features' : list(range(1,18,1)),\n",
    "#     'rcf__class_weight':['balanced_subsample','balanced'],\n",
    "#     'rcf__max_depth' :[3,5,7]}\n",
    "# ]\n",
    "\n",
    "# # Create grid search object\n",
    "\n",
    "# clf = GridSearchCV(rcf_pipe, param_grid = param_grid, cv = 5, verbose=True, n_jobs=-1, scoring = 'recall')\n",
    "\n",
    "# # Fit on data\n",
    "\n",
    "# best_clf = clf.fit(X_train, y_train)\n",
    "\n"
   ]
  },
  {
   "cell_type": "code",
   "execution_count": 10,
   "metadata": {},
   "outputs": [
    {
     "data": {
      "text/plain": [
       "{'rcf': RandomForestClassifier(class_weight='balanced_subsample', max_depth=3,\n",
       "                        max_features=1, n_estimators=500),\n",
       " 'rcf__class_weight': 'balanced_subsample',\n",
       " 'rcf__max_depth': 3,\n",
       " 'rcf__max_features': 1,\n",
       " 'rcf__n_estimators': 500}"
      ]
     },
     "execution_count": 10,
     "metadata": {},
     "output_type": "execute_result"
    }
   ],
   "source": [
    "# best_clf.best_params_"
   ]
  },
  {
   "cell_type": "code",
   "execution_count": 11,
   "metadata": {},
   "outputs": [
    {
     "data": {
      "text/plain": [
       "array([0, 0, 0, ..., 0, 0, 0])"
      ]
     },
     "execution_count": 11,
     "metadata": {},
     "output_type": "execute_result"
    }
   ],
   "source": [
    "# best_clf.predict(X_test)"
   ]
  },
  {
   "cell_type": "code",
   "execution_count": 12,
   "metadata": {},
   "outputs": [
    {
     "name": "stdout",
     "output_type": "stream",
     "text": [
      "              precision    recall  f1-score   support\n",
      "\n",
      "           0       0.98      0.78      0.87      3662\n",
      "           1       0.12      0.63      0.20       169\n",
      "\n",
      "    accuracy                           0.78      3831\n",
      "   macro avg       0.55      0.71      0.53      3831\n",
      "weighted avg       0.94      0.78      0.84      3831\n",
      "\n"
     ]
    },
    {
     "data": {
      "image/png": "[encoded data removed]",
      "text/plain": [
       "<Figure size 432x288 with 2 Axes>"
      ]
     },
     "metadata": {
      "needs_background": "light"
     },
     "output_type": "display_data"
    }
   ],
   "source": [
    "# evaluation_report(best_clf, X_train, y_train)"
   ]
  },
  {
   "cell_type": "code",
   "execution_count": 13,
   "metadata": {},
   "outputs": [
    {
     "name": "stdout",
     "output_type": "stream",
     "text": [
      "              precision    recall  f1-score   support\n",
      "\n",
      "           0       0.97      0.77      0.86      1198\n",
      "           1       0.16      0.65      0.25        80\n",
      "\n",
      "    accuracy                           0.76      1278\n",
      "   macro avg       0.56      0.71      0.55      1278\n",
      "weighted avg       0.92      0.76      0.82      1278\n",
      "\n"
     ]
    },
    {
     "data": {
      "image/png": "[encoded data removed]",
      "text/plain": [
       "<Figure size 432x288 with 2 Axes>"
      ]
     },
     "metadata": {
      "needs_background": "light"
     },
     "output_type": "display_data"
    }
   ],
   "source": [
    "# evaluation_report(best_clf, X_test, y_test)"
   ]
  },
  {
   "cell_type": "code",
   "execution_count": 14,
   "metadata": {},
   "outputs": [
    {
     "name": "stdout",
     "output_type": "stream",
     "text": [
      "Fitting 5 folds for each of 24 candidates, totalling 120 fits\n"
     ]
    },
    {
     "name": "stderr",
     "output_type": "stream",
     "text": [
      "[Parallel(n_jobs=-1)]: Using backend LokyBackend with 4 concurrent workers.\n",
      "[Parallel(n_jobs=-1)]: Done  42 tasks      | elapsed:   51.1s\n",
      "[Parallel(n_jobs=-1)]: Done 120 out of 120 | elapsed:  1.9min finished\n"
     ]
    }
   ],
   "source": [
    "# rcf_pipe2 = imbpipeline(steps=[\n",
    "#     ('trans', trans),\n",
    "#     ('sm', SMOTE()),\n",
    "#     ('rcf', RandomForestClassifier())\n",
    "# ])\n",
    "\n",
    "\n",
    "# param_grid = [\n",
    "#     {'rcf' : [RandomForestClassifier()],\n",
    "#     'rcf__n_estimators' : list(range(400,600,50)),\n",
    "#     'rcf__class_weight':['balanced_subsample','balanced'],\n",
    "#     'rcf__max_depth' :[2,3,4]}\n",
    "# ]\n",
    "\n",
    "# # Create grid search object\n",
    "\n",
    "# clf2 = GridSearchCV(rcf_pipe2, param_grid = param_grid, cv = 5, verbose=True, n_jobs=-1, scoring = 'recall')\n",
    "\n",
    "# # Fit on data\n",
    "\n",
    "# best_clf2 = clf2.fit(X_train, y_train)\n",
    "\n"
   ]
  },
  {
   "cell_type": "code",
   "execution_count": 15,
   "metadata": {},
   "outputs": [
    {
     "data": {
      "text/plain": [
       "{'rcf': RandomForestClassifier(class_weight='balanced_subsample', max_depth=2,\n",
       "                        n_estimators=550),\n",
       " 'rcf__class_weight': 'balanced_subsample',\n",
       " 'rcf__max_depth': 2,\n",
       " 'rcf__n_estimators': 550}"
      ]
     },
     "execution_count": 15,
     "metadata": {},
     "output_type": "execute_result"
    }
   ],
   "source": [
    "# best_clf2.best_params_"
   ]
  },
  {
   "cell_type": "code",
   "execution_count": 16,
   "metadata": {},
   "outputs": [
    {
     "name": "stdout",
     "output_type": "stream",
     "text": [
      "              precision    recall  f1-score   support\n",
      "\n",
      "           0       0.98      0.78      0.87      3662\n",
      "           1       0.12      0.63      0.20       169\n",
      "\n",
      "    accuracy                           0.78      3831\n",
      "   macro avg       0.55      0.71      0.53      3831\n",
      "weighted avg       0.94      0.78      0.84      3831\n",
      "\n"
     ]
    },
    {
     "data": {
      "image/png": "[encoded data removed]",
      "text/plain": [
       "<Figure size 432x288 with 2 Axes>"
      ]
     },
     "metadata": {
      "needs_background": "light"
     },
     "output_type": "display_data"
    }
   ],
   "source": [
    "# evaluation_report(best_clf, X_train, y_train)"
   ]
  },
  {
   "cell_type": "code",
   "execution_count": 17,
   "metadata": {},
   "outputs": [
    {
     "name": "stdout",
     "output_type": "stream",
     "text": [
      "              precision    recall  f1-score   support\n",
      "\n",
      "           0       0.97      0.77      0.86      1198\n",
      "           1       0.16      0.65      0.25        80\n",
      "\n",
      "    accuracy                           0.76      1278\n",
      "   macro avg       0.56      0.71      0.55      1278\n",
      "weighted avg       0.92      0.76      0.82      1278\n",
      "\n"
     ]
    },
    {
     "data": {
      "image/png": "[encoded data removed]",
      "text/plain": [
       "<Figure size 432x288 with 2 Axes>"
      ]
     },
     "metadata": {
      "needs_background": "light"
     },
     "output_type": "display_data"
    }
   ],
   "source": [
    "# evaluation_report(best_clf, X_test, y_test)"
   ]
  },
  {
   "cell_type": "code",
   "execution_count": 18,
   "metadata": {},
   "outputs": [
    {
     "name": "stdout",
     "output_type": "stream",
     "text": [
      "Fitting 5 folds for each of 10 candidates, totalling 50 fits\n"
     ]
    },
    {
     "name": "stderr",
     "output_type": "stream",
     "text": [
      "[Parallel(n_jobs=-1)]: Using backend LokyBackend with 4 concurrent workers.\n",
      "[Parallel(n_jobs=-1)]: Done  42 tasks      | elapsed:   55.2s\n",
      "[Parallel(n_jobs=-1)]: Done  50 out of  50 | elapsed:  1.1min finished\n"
     ]
    }
   ],
   "source": [
    "# rcf_pipe3 = imbpipeline(steps=[\n",
    "#     ('trans', trans),\n",
    "#     ('sm', SMOTE()),\n",
    "#     ('rcf', RandomForestClassifier())\n",
    "# ])\n",
    "\n",
    "\n",
    "# param_grid = [\n",
    "#     {'rcf' : [RandomForestClassifier()],\n",
    "#     'rcf__n_estimators' : list(range(550,600,5)),\n",
    "#     'rcf__class_weight':['balanced_subsample'],\n",
    "#     'rcf__max_depth' :[2]}\n",
    "# ]\n",
    "\n",
    "# # Create grid search object\n",
    "\n",
    "# clf3 = GridSearchCV(rcf_pipe3, param_grid = param_grid, cv = 5, verbose=True, n_jobs=-1, scoring = 'recall')\n",
    "\n",
    "# # Fit on data\n",
    "\n",
    "# best_clf3 = clf3.fit(X_train, y_train)\n",
    "\n"
   ]
  },
  {
   "cell_type": "code",
   "execution_count": 19,
   "metadata": {},
   "outputs": [
    {
     "data": {
      "text/plain": [
       "{'rcf': RandomForestClassifier(class_weight='balanced_subsample', max_depth=2,\n",
       "                        n_estimators=580),\n",
       " 'rcf__class_weight': 'balanced_subsample',\n",
       " 'rcf__max_depth': 2,\n",
       " 'rcf__n_estimators': 580}"
      ]
     },
     "execution_count": 19,
     "metadata": {},
     "output_type": "execute_result"
    }
   ],
   "source": [
    "best_clf3.best_params_"
   ]
  },
  {
   "cell_type": "code",
   "execution_count": 20,
   "metadata": {},
   "outputs": [
    {
     "name": "stdout",
     "output_type": "stream",
     "text": [
      "              precision    recall  f1-score   support\n",
      "\n",
      "           0       0.98      0.81      0.89      3662\n",
      "           1       0.13      0.62      0.22       169\n",
      "\n",
      "    accuracy                           0.80      3831\n",
      "   macro avg       0.56      0.72      0.55      3831\n",
      "weighted avg       0.94      0.80      0.86      3831\n",
      "\n"
     ]
    },
    {
     "data": {
      "image/png": "[encoded data removed]",
      "text/plain": [
       "<Figure size 432x288 with 2 Axes>"
      ]
     },
     "metadata": {
      "needs_background": "light"
     },
     "output_type": "display_data"
    }
   ],
   "source": [
    "# evaluation_report(best_clf3, X_train, y_train)"
   ]
  },
  {
   "cell_type": "code",
   "execution_count": 21,
   "metadata": {},
   "outputs": [
    {
     "name": "stdout",
     "output_type": "stream",
     "text": [
      "              precision    recall  f1-score   support\n",
      "\n",
      "           0       0.97      0.79      0.87      1198\n",
      "           1       0.16      0.60      0.26        80\n",
      "\n",
      "    accuracy                           0.78      1278\n",
      "   macro avg       0.57      0.70      0.56      1278\n",
      "weighted avg       0.92      0.78      0.83      1278\n",
      "\n"
     ]
    },
    {
     "data": {
      "image/png": "[encoded data removed]",
      "text/plain": [
       "<Figure size 432x288 with 2 Axes>"
      ]
     },
     "metadata": {
      "needs_background": "light"
     },
     "output_type": "display_data"
    }
   ],
   "source": [
    "# evaluation_report(best_clf3, X_test, y_test)"
   ]
  },
  {
   "cell_type": "code",
   "execution_count": 22,
   "metadata": {},
   "outputs": [],
   "source": [
    "import xgboost"
   ]
  },
  {
   "cell_type": "code",
   "execution_count": 47,
   "metadata": {
    "scrolled": true
   },
   "outputs": [
    {
     "data": {
      "text/plain": [
       "Pipeline(steps=[('trans',\n",
       "                 ColumnTransformer(transformers=[('numerical',\n",
       "                                                  Pipeline(steps=[('ss',\n",
       "                                                                   StandardScaler())]),\n",
       "                                                  Index(['avg_glucose_level'], dtype='object')),\n",
       "                                                 ('categorical',\n",
       "                                                  Pipeline(steps=[('ohe',\n",
       "                                                                   OneHotEncoder(drop='first',\n",
       "                                                                                 sparse=False))]),\n",
       "                                                  Index(['gender', 'hypertension', 'heart_disease', 'ever_married', 'work_type',\n",
       "       'Residence_type', 'smoking_status', 'bm...\n",
       "                               colsample_bytree=1, gamma=0, gpu_id=-1,\n",
       "                               importance_type='gain',\n",
       "                               interaction_constraints='', learning_rate=0.003,\n",
       "                               max_delta_step=0, max_depth=2,\n",
       "                               min_child_weight=1, missing=nan,\n",
       "                               monotone_constraints='()', n_estimators=100,\n",
       "                               n_jobs=-1, num_parallel_tree=1, random_state=0,\n",
       "                               reg_alpha=0, reg_lambda=1, scale_pos_weight=1,\n",
       "                               subsample=1, tree_method='exact',\n",
       "                               validate_parameters=1, verbosity=None))])"
      ]
     },
     "execution_count": 47,
     "metadata": {},
     "output_type": "execute_result"
    }
   ],
   "source": [
    "steps = [('trans', trans),\n",
    "         ('sm', SMOTE()),\n",
    "         ('xgb3',xgboost.XGBClassifier(n_jobs = -1,\n",
    "                                      max_depth = 2,\n",
    "                                      learning_rate = 0.003,))]\n",
    "\n",
    "\n",
    "xgb_pipe3 = imbpipeline(steps=steps)\n",
    "xgb_pipe3.fit(X_train, y_train)"
   ]
  },
  {
   "cell_type": "code",
   "execution_count": 48,
   "metadata": {},
   "outputs": [
    {
     "name": "stdout",
     "output_type": "stream",
     "text": [
      "              precision    recall  f1-score   support\n",
      "\n",
      "           0       0.99      0.35      0.52      3662\n",
      "           1       0.06      0.91      0.11       169\n",
      "\n",
      "    accuracy                           0.37      3831\n",
      "   macro avg       0.52      0.63      0.31      3831\n",
      "weighted avg       0.95      0.37      0.50      3831\n",
      "\n"
     ]
    },
    {
     "data": {
      "image/png": "[encoded data removed]",
      "text/plain": [
       "<Figure size 432x288 with 2 Axes>"
      ]
     },
     "metadata": {
      "needs_background": "light"
     },
     "output_type": "display_data"
    }
   ],
   "source": [
    "evaluation_report(xgb_pipe3, X_train, y_train)"
   ]
  },
  {
   "cell_type": "code",
   "execution_count": 49,
   "metadata": {
    "scrolled": true
   },
   "outputs": [
    {
     "name": "stdout",
     "output_type": "stream",
     "text": [
      "              precision    recall  f1-score   support\n",
      "\n",
      "           0       1.00      0.34      0.50      1198\n",
      "           1       0.09      0.97      0.16        80\n",
      "\n",
      "    accuracy                           0.38      1278\n",
      "   macro avg       0.54      0.66      0.33      1278\n",
      "weighted avg       0.94      0.38      0.48      1278\n",
      "\n"
     ]
    },
    {
     "data": {
      "image/png": "[encoded data removed]",
      "text/plain": [
       "<Figure size 432x288 with 2 Axes>"
      ]
     },
     "metadata": {
      "needs_background": "light"
     },
     "output_type": "display_data"
    }
   ],
   "source": [
    "evaluation_report(xgb_pipe3, X_test, y_test)\n"
   ]
  },
  {
   "cell_type": "code",
   "execution_count": 56,
   "metadata": {},
   "outputs": [],
   "source": [
    "from sklearn.model_selection import cross_val_score"
   ]
  },
  {
   "cell_type": "code",
   "execution_count": 60,
   "metadata": {},
   "outputs": [
    {
     "data": {
      "text/plain": [
       "array([0.6875, 0.9375, 1.    , 0.6875, 0.9375])"
      ]
     },
     "execution_count": 60,
     "metadata": {},
     "output_type": "execute_result"
    }
   ],
   "source": [
    "cross_val_score(xgb_pipe3, X_test, y_test, scoring='recall')"
   ]
  },
  {
   "cell_type": "code",
   "execution_count": 50,
   "metadata": {},
   "outputs": [
    {
     "data": {
      "text/plain": [
       "array([0.15791075, 0.        , 0.0990557 , 0.16920151, 0.40200028,\n",
       "       0.        , 0.        , 0.        , 0.        , 0.        ,\n",
       "       0.        , 0.        , 0.        , 0.        , 0.        ,\n",
       "       0.        , 0.1718318 ], dtype=float32)"
      ]
     },
     "execution_count": 50,
     "metadata": {},
     "output_type": "execute_result"
    }
   ],
   "source": [
    "xgb_pipe3.named_steps['xgb3'].feature_importances_"
   ]
  },
  {
   "cell_type": "code",
   "execution_count": 88,
   "metadata": {},
   "outputs": [],
   "source": [
    "from sklearn.preprocessing import OneHotEncoder"
   ]
  },
  {
   "cell_type": "code",
   "execution_count": 89,
   "metadata": {},
   "outputs": [
    {
     "data": {
      "text/plain": [
       "array([[0., 0., 0., ..., 1., 0., 0.],\n",
       "       [1., 0., 0., ..., 1., 0., 0.],\n",
       "       [1., 0., 0., ..., 0., 0., 0.],\n",
       "       ...,\n",
       "       [0., 0., 0., ..., 0., 1., 0.],\n",
       "       [0., 0., 0., ..., 0., 0., 0.],\n",
       "       [0., 0., 0., ..., 0., 0., 0.]])"
      ]
     },
     "execution_count": 89,
     "metadata": {},
     "output_type": "execute_result"
    }
   ],
   "source": [
    "ohe = OneHotEncoder(sparse = False, drop = 'first')\n",
    "ohe.fit_transform(X_train.select_dtypes(exclude = 'float64'))"
   ]
  },
  {
   "cell_type": "code",
   "execution_count": 97,
   "metadata": {},
   "outputs": [],
   "source": [
    "cat_cols = (ohe.get_feature_names(X_train.select_dtypes(exclude = 'float64').columns))\n",
    "\n"
   ]
  },
  {
   "cell_type": "code",
   "execution_count": 98,
   "metadata": {},
   "outputs": [],
   "source": [
    "column_names = ['avg_glucose_level']\n",
    "column_names = column_names+cat_cols.tolist()"
   ]
  },
  {
   "cell_type": "code",
   "execution_count": 99,
   "metadata": {},
   "outputs": [
    {
     "data": {
      "text/plain": [
       "['avg_glucose_level',\n",
       " 'gender_Male',\n",
       " 'hypertension_1',\n",
       " 'heart_disease_1',\n",
       " 'ever_married_Yes',\n",
       " 'work_type_Never_worked',\n",
       " 'work_type_Private',\n",
       " 'work_type_Self-employed',\n",
       " 'work_type_children',\n",
       " 'Residence_type_Urban',\n",
       " 'smoking_status_formerly smoked',\n",
       " 'smoking_status_never smoked',\n",
       " 'smoking_status_smokes',\n",
       " 'bmi_cat_obese',\n",
       " 'bmi_cat_overweight',\n",
       " 'bmi_cat_underweight',\n",
       " 'bmi_cat_unknown']"
      ]
     },
     "execution_count": 99,
     "metadata": {},
     "output_type": "execute_result"
    }
   ],
   "source": [
    "column_names"
   ]
  },
  {
   "cell_type": "code",
   "execution_count": 100,
   "metadata": {},
   "outputs": [
    {
     "data": {
      "text/html": [
       "<div>\n",
       "<style scoped>\n",
       "    .dataframe tbody tr th:only-of-type {\n",
       "        vertical-align: middle;\n",
       "    }\n",
       "\n",
       "    .dataframe tbody tr th {\n",
       "        vertical-align: top;\n",
       "    }\n",
       "\n",
       "    .dataframe thead th {\n",
       "        text-align: right;\n",
       "    }\n",
       "</style>\n",
       "<table border=\"1\" class=\"dataframe\">\n",
       "  <thead>\n",
       "    <tr style=\"text-align: right;\">\n",
       "      <th></th>\n",
       "      <th>avg_glucose_level</th>\n",
       "      <th>gender_Male</th>\n",
       "      <th>hypertension_1</th>\n",
       "      <th>heart_disease_1</th>\n",
       "      <th>ever_married_Yes</th>\n",
       "      <th>work_type_Never_worked</th>\n",
       "      <th>work_type_Private</th>\n",
       "      <th>work_type_Self-employed</th>\n",
       "      <th>work_type_children</th>\n",
       "      <th>Residence_type_Urban</th>\n",
       "      <th>smoking_status_formerly smoked</th>\n",
       "      <th>smoking_status_never smoked</th>\n",
       "      <th>smoking_status_smokes</th>\n",
       "      <th>bmi_cat_obese</th>\n",
       "      <th>bmi_cat_overweight</th>\n",
       "      <th>bmi_cat_underweight</th>\n",
       "      <th>bmi_cat_unknown</th>\n",
       "    </tr>\n",
       "  </thead>\n",
       "  <tbody>\n",
       "    <tr>\n",
       "      <th>0</th>\n",
       "      <td>-0.015801</td>\n",
       "      <td>0.0</td>\n",
       "      <td>0.0</td>\n",
       "      <td>0.0</td>\n",
       "      <td>1.0</td>\n",
       "      <td>0.0</td>\n",
       "      <td>1.0</td>\n",
       "      <td>0.0</td>\n",
       "      <td>0.0</td>\n",
       "      <td>1.0</td>\n",
       "      <td>0.0</td>\n",
       "      <td>1.0</td>\n",
       "      <td>0.0</td>\n",
       "      <td>0.0</td>\n",
       "      <td>1.0</td>\n",
       "      <td>0.0</td>\n",
       "      <td>0.0</td>\n",
       "    </tr>\n",
       "    <tr>\n",
       "      <th>1</th>\n",
       "      <td>-0.485375</td>\n",
       "      <td>1.0</td>\n",
       "      <td>0.0</td>\n",
       "      <td>0.0</td>\n",
       "      <td>1.0</td>\n",
       "      <td>0.0</td>\n",
       "      <td>1.0</td>\n",
       "      <td>0.0</td>\n",
       "      <td>0.0</td>\n",
       "      <td>0.0</td>\n",
       "      <td>1.0</td>\n",
       "      <td>0.0</td>\n",
       "      <td>0.0</td>\n",
       "      <td>0.0</td>\n",
       "      <td>1.0</td>\n",
       "      <td>0.0</td>\n",
       "      <td>0.0</td>\n",
       "    </tr>\n",
       "    <tr>\n",
       "      <th>2</th>\n",
       "      <td>-0.407297</td>\n",
       "      <td>1.0</td>\n",
       "      <td>0.0</td>\n",
       "      <td>0.0</td>\n",
       "      <td>1.0</td>\n",
       "      <td>0.0</td>\n",
       "      <td>1.0</td>\n",
       "      <td>0.0</td>\n",
       "      <td>0.0</td>\n",
       "      <td>1.0</td>\n",
       "      <td>1.0</td>\n",
       "      <td>0.0</td>\n",
       "      <td>0.0</td>\n",
       "      <td>1.0</td>\n",
       "      <td>0.0</td>\n",
       "      <td>0.0</td>\n",
       "      <td>0.0</td>\n",
       "    </tr>\n",
       "    <tr>\n",
       "      <th>3</th>\n",
       "      <td>-0.937526</td>\n",
       "      <td>0.0</td>\n",
       "      <td>0.0</td>\n",
       "      <td>0.0</td>\n",
       "      <td>1.0</td>\n",
       "      <td>0.0</td>\n",
       "      <td>1.0</td>\n",
       "      <td>0.0</td>\n",
       "      <td>0.0</td>\n",
       "      <td>0.0</td>\n",
       "      <td>0.0</td>\n",
       "      <td>0.0</td>\n",
       "      <td>0.0</td>\n",
       "      <td>0.0</td>\n",
       "      <td>1.0</td>\n",
       "      <td>0.0</td>\n",
       "      <td>0.0</td>\n",
       "    </tr>\n",
       "    <tr>\n",
       "      <th>4</th>\n",
       "      <td>0.114992</td>\n",
       "      <td>0.0</td>\n",
       "      <td>0.0</td>\n",
       "      <td>0.0</td>\n",
       "      <td>1.0</td>\n",
       "      <td>0.0</td>\n",
       "      <td>1.0</td>\n",
       "      <td>0.0</td>\n",
       "      <td>0.0</td>\n",
       "      <td>0.0</td>\n",
       "      <td>1.0</td>\n",
       "      <td>0.0</td>\n",
       "      <td>0.0</td>\n",
       "      <td>1.0</td>\n",
       "      <td>0.0</td>\n",
       "      <td>0.0</td>\n",
       "      <td>0.0</td>\n",
       "    </tr>\n",
       "    <tr>\n",
       "      <th>...</th>\n",
       "      <td>...</td>\n",
       "      <td>...</td>\n",
       "      <td>...</td>\n",
       "      <td>...</td>\n",
       "      <td>...</td>\n",
       "      <td>...</td>\n",
       "      <td>...</td>\n",
       "      <td>...</td>\n",
       "      <td>...</td>\n",
       "      <td>...</td>\n",
       "      <td>...</td>\n",
       "      <td>...</td>\n",
       "      <td>...</td>\n",
       "      <td>...</td>\n",
       "      <td>...</td>\n",
       "      <td>...</td>\n",
       "      <td>...</td>\n",
       "    </tr>\n",
       "    <tr>\n",
       "      <th>3826</th>\n",
       "      <td>0.841742</td>\n",
       "      <td>0.0</td>\n",
       "      <td>0.0</td>\n",
       "      <td>0.0</td>\n",
       "      <td>1.0</td>\n",
       "      <td>0.0</td>\n",
       "      <td>1.0</td>\n",
       "      <td>0.0</td>\n",
       "      <td>0.0</td>\n",
       "      <td>0.0</td>\n",
       "      <td>0.0</td>\n",
       "      <td>1.0</td>\n",
       "      <td>0.0</td>\n",
       "      <td>0.0</td>\n",
       "      <td>1.0</td>\n",
       "      <td>0.0</td>\n",
       "      <td>0.0</td>\n",
       "    </tr>\n",
       "    <tr>\n",
       "      <th>3827</th>\n",
       "      <td>1.413216</td>\n",
       "      <td>0.0</td>\n",
       "      <td>1.0</td>\n",
       "      <td>0.0</td>\n",
       "      <td>1.0</td>\n",
       "      <td>0.0</td>\n",
       "      <td>1.0</td>\n",
       "      <td>0.0</td>\n",
       "      <td>0.0</td>\n",
       "      <td>0.0</td>\n",
       "      <td>0.0</td>\n",
       "      <td>0.0</td>\n",
       "      <td>1.0</td>\n",
       "      <td>1.0</td>\n",
       "      <td>0.0</td>\n",
       "      <td>0.0</td>\n",
       "      <td>0.0</td>\n",
       "    </tr>\n",
       "    <tr>\n",
       "      <th>3828</th>\n",
       "      <td>-0.191808</td>\n",
       "      <td>0.0</td>\n",
       "      <td>0.0</td>\n",
       "      <td>0.0</td>\n",
       "      <td>0.0</td>\n",
       "      <td>0.0</td>\n",
       "      <td>0.0</td>\n",
       "      <td>0.0</td>\n",
       "      <td>1.0</td>\n",
       "      <td>1.0</td>\n",
       "      <td>0.0</td>\n",
       "      <td>0.0</td>\n",
       "      <td>0.0</td>\n",
       "      <td>0.0</td>\n",
       "      <td>0.0</td>\n",
       "      <td>1.0</td>\n",
       "      <td>0.0</td>\n",
       "    </tr>\n",
       "    <tr>\n",
       "      <th>3829</th>\n",
       "      <td>-0.265696</td>\n",
       "      <td>0.0</td>\n",
       "      <td>0.0</td>\n",
       "      <td>0.0</td>\n",
       "      <td>1.0</td>\n",
       "      <td>0.0</td>\n",
       "      <td>0.0</td>\n",
       "      <td>0.0</td>\n",
       "      <td>0.0</td>\n",
       "      <td>0.0</td>\n",
       "      <td>0.0</td>\n",
       "      <td>1.0</td>\n",
       "      <td>0.0</td>\n",
       "      <td>0.0</td>\n",
       "      <td>0.0</td>\n",
       "      <td>0.0</td>\n",
       "      <td>0.0</td>\n",
       "    </tr>\n",
       "    <tr>\n",
       "      <th>3830</th>\n",
       "      <td>-0.128507</td>\n",
       "      <td>0.0</td>\n",
       "      <td>0.0</td>\n",
       "      <td>0.0</td>\n",
       "      <td>1.0</td>\n",
       "      <td>0.0</td>\n",
       "      <td>1.0</td>\n",
       "      <td>0.0</td>\n",
       "      <td>0.0</td>\n",
       "      <td>0.0</td>\n",
       "      <td>0.0</td>\n",
       "      <td>0.0</td>\n",
       "      <td>1.0</td>\n",
       "      <td>1.0</td>\n",
       "      <td>0.0</td>\n",
       "      <td>0.0</td>\n",
       "      <td>0.0</td>\n",
       "    </tr>\n",
       "  </tbody>\n",
       "</table>\n",
       "<p>3831 rows × 17 columns</p>\n",
       "</div>"
      ],
      "text/plain": [
       "      avg_glucose_level  gender_Male  hypertension_1  heart_disease_1  \\\n",
       "0             -0.015801          0.0             0.0              0.0   \n",
       "1             -0.485375          1.0             0.0              0.0   \n",
       "2             -0.407297          1.0             0.0              0.0   \n",
       "3             -0.937526          0.0             0.0              0.0   \n",
       "4              0.114992          0.0             0.0              0.0   \n",
       "...                 ...          ...             ...              ...   \n",
       "3826           0.841742          0.0             0.0              0.0   \n",
       "3827           1.413216          0.0             1.0              0.0   \n",
       "3828          -0.191808          0.0             0.0              0.0   \n",
       "3829          -0.265696          0.0             0.0              0.0   \n",
       "3830          -0.128507          0.0             0.0              0.0   \n",
       "\n",
       "      ever_married_Yes  work_type_Never_worked  work_type_Private  \\\n",
       "0                  1.0                     0.0                1.0   \n",
       "1                  1.0                     0.0                1.0   \n",
       "2                  1.0                     0.0                1.0   \n",
       "3                  1.0                     0.0                1.0   \n",
       "4                  1.0                     0.0                1.0   \n",
       "...                ...                     ...                ...   \n",
       "3826               1.0                     0.0                1.0   \n",
       "3827               1.0                     0.0                1.0   \n",
       "3828               0.0                     0.0                0.0   \n",
       "3829               1.0                     0.0                0.0   \n",
       "3830               1.0                     0.0                1.0   \n",
       "\n",
       "      work_type_Self-employed  work_type_children  Residence_type_Urban  \\\n",
       "0                         0.0                 0.0                   1.0   \n",
       "1                         0.0                 0.0                   0.0   \n",
       "2                         0.0                 0.0                   1.0   \n",
       "3                         0.0                 0.0                   0.0   \n",
       "4                         0.0                 0.0                   0.0   \n",
       "...                       ...                 ...                   ...   \n",
       "3826                      0.0                 0.0                   0.0   \n",
       "3827                      0.0                 0.0                   0.0   \n",
       "3828                      0.0                 1.0                   1.0   \n",
       "3829                      0.0                 0.0                   0.0   \n",
       "3830                      0.0                 0.0                   0.0   \n",
       "\n",
       "      smoking_status_formerly smoked  smoking_status_never smoked  \\\n",
       "0                                0.0                          1.0   \n",
       "1                                1.0                          0.0   \n",
       "2                                1.0                          0.0   \n",
       "3                                0.0                          0.0   \n",
       "4                                1.0                          0.0   \n",
       "...                              ...                          ...   \n",
       "3826                             0.0                          1.0   \n",
       "3827                             0.0                          0.0   \n",
       "3828                             0.0                          0.0   \n",
       "3829                             0.0                          1.0   \n",
       "3830                             0.0                          0.0   \n",
       "\n",
       "      smoking_status_smokes  bmi_cat_obese  bmi_cat_overweight  \\\n",
       "0                       0.0            0.0                 1.0   \n",
       "1                       0.0            0.0                 1.0   \n",
       "2                       0.0            1.0                 0.0   \n",
       "3                       0.0            0.0                 1.0   \n",
       "4                       0.0            1.0                 0.0   \n",
       "...                     ...            ...                 ...   \n",
       "3826                    0.0            0.0                 1.0   \n",
       "3827                    1.0            1.0                 0.0   \n",
       "3828                    0.0            0.0                 0.0   \n",
       "3829                    0.0            0.0                 0.0   \n",
       "3830                    1.0            1.0                 0.0   \n",
       "\n",
       "      bmi_cat_underweight  bmi_cat_unknown  \n",
       "0                     0.0              0.0  \n",
       "1                     0.0              0.0  \n",
       "2                     0.0              0.0  \n",
       "3                     0.0              0.0  \n",
       "4                     0.0              0.0  \n",
       "...                   ...              ...  \n",
       "3826                  0.0              0.0  \n",
       "3827                  0.0              0.0  \n",
       "3828                  1.0              0.0  \n",
       "3829                  0.0              0.0  \n",
       "3830                  0.0              0.0  \n",
       "\n",
       "[3831 rows x 17 columns]"
      ]
     },
     "execution_count": 100,
     "metadata": {},
     "output_type": "execute_result"
    }
   ],
   "source": [
    "pd.DataFrame(trans.fit_transform(X_train), columns=column_names)"
   ]
  },
  {
   "cell_type": "code",
   "execution_count": null,
   "metadata": {},
   "outputs": [],
   "source": [
    "from xgboost import plot_importance\n",
    "from matplotlib import pyplot"
   ]
  },
  {
   "cell_type": "code",
   "execution_count": 101,
   "metadata": {},
   "outputs": [
    {
     "data": {
      "image/png": "[encoded data removed]",
      "text/plain": [
       "<Figure size 432x288 with 1 Axes>"
      ]
     },
     "metadata": {
      "needs_background": "light"
     },
     "output_type": "display_data"
    }
   ],
   "source": [
    "plot_importance(xgb_pipe3.named_steps['xgb3'])\n",
    "pyplot.show()"
   ]
  },
  {
   "cell_type": "code",
   "execution_count": null,
   "metadata": {},
   "outputs": [],
   "source": []
  }
 ],
 "metadata": {
  "kernelspec": {
   "display_name": "learn-env",
   "language": "python",
   "name": "learn-env"
  },
  "language_info": {
   "codemirror_mode": {
    "name": "ipython",
    "version": 3
   },
   "file_extension": ".py",
   "mimetype": "text/x-python",
   "name": "python",
   "nbconvert_exporter": "python",
   "pygments_lexer": "ipython3",
   "version": "3.8.5"
  }
 },
 "nbformat": 4,
 "nbformat_minor": 4
}
